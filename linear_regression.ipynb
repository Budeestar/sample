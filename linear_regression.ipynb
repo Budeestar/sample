{
 "cells": [
  {
   "cell_type": "code",
   "execution_count": 1,
   "metadata": {},
   "outputs": [],
   "source": [
    "# Importing packages\n",
    "import pandas as pd\n",
    "import numpy as np\n",
    "import matplotlib.pyplot as plot\n",
    "from sklearn.linear_model import LinearRegression"
   ]
  },
  {
   "cell_type": "code",
   "execution_count": 2,
   "metadata": {},
   "outputs": [
    {
     "name": "stdout",
     "output_type": "stream",
     "text": [
      "               model   mpg  cyl   disp   hp  drat     wt   qsec  vs  am  gear  \\\n",
      "0          Mazda RX4  21.0    6  160.0  110  3.90  2.620  16.46   0   1     4   \n",
      "1      Mazda RX4 Wag  21.0    6  160.0  110  3.90  2.875  17.02   0   1     4   \n",
      "2         Datsun 710  22.8    4  108.0   93  3.85  2.320  18.61   1   1     4   \n",
      "3     Hornet 4 Drive  21.4    6  258.0  110  3.08  3.215  19.44   1   0     3   \n",
      "4  Hornet Sportabout  18.7    8  360.0  175  3.15  3.440  17.02   0   0     3   \n",
      "\n",
      "   carb  \n",
      "0     4  \n",
      "1     4  \n",
      "2     1  \n",
      "3     1  \n",
      "4     2  \n",
      "             mpg        cyl        disp          hp       drat         wt  \\\n",
      "count  32.000000  32.000000   32.000000   32.000000  32.000000  32.000000   \n",
      "mean   20.090625   6.187500  230.721875  146.687500   3.596563   3.217250   \n",
      "std     6.026948   1.785922  123.938694   68.562868   0.534679   0.978457   \n",
      "min    10.400000   4.000000   71.100000   52.000000   2.760000   1.513000   \n",
      "25%    15.425000   4.000000  120.825000   96.500000   3.080000   2.581250   \n",
      "50%    19.200000   6.000000  196.300000  123.000000   3.695000   3.325000   \n",
      "75%    22.800000   8.000000  326.000000  180.000000   3.920000   3.610000   \n",
      "max    33.900000   8.000000  472.000000  335.000000   4.930000   5.424000   \n",
      "\n",
      "            qsec         vs         am       gear     carb  \n",
      "count  32.000000  32.000000  32.000000  32.000000  32.0000  \n",
      "mean   17.848750   0.437500   0.406250   3.687500   2.8125  \n",
      "std     1.786943   0.504016   0.498991   0.737804   1.6152  \n",
      "min    14.500000   0.000000   0.000000   3.000000   1.0000  \n",
      "25%    16.892500   0.000000   0.000000   3.000000   2.0000  \n",
      "50%    17.710000   0.000000   0.000000   4.000000   2.0000  \n",
      "75%    18.900000   1.000000   1.000000   4.000000   4.0000  \n",
      "max    22.900000   1.000000   1.000000   5.000000   8.0000  \n",
      "Index(['model', 'mpg', 'cyl', 'disp', 'hp', 'drat', 'wt', 'qsec', 'vs', 'am',\n",
      "       'gear', 'carb'],\n",
      "      dtype='object')\n"
     ]
    }
   ],
   "source": [
    "# Loading mtcars dataset and printing information about it\n",
    "data = pd.read_csv('https://spotleai.sgp1.digitaloceanspaces.com/course/data/mtcars.csv')\n",
    "print(data.head())\n",
    "print(data.describe())\n",
    "print(data.columns)"
   ]
  },
  {
   "cell_type": "code",
   "execution_count": 3,
   "metadata": {},
   "outputs": [
    {
     "data": {
      "text/plain": [
       "Text(0, 0.5, 'Miles per gallon')"
      ]
     },
     "execution_count": 3,
     "metadata": {},
     "output_type": "execute_result"
    },
    {
     "data": {
      "image/png": "[encoded data removed]",
      "text/plain": [
       "<Figure size 432x288 with 1 Axes>"
      ]
     },
     "metadata": {
      "needs_background": "light"
     },
     "output_type": "display_data"
    }
   ],
   "source": [
    "plot.scatter(data['drat'], data['mpg'])\n",
    "plot.xlabel('Rare axel ratio')\n",
    "plot.ylabel('Miles per gallon')"
   ]
  },
  {
   "cell_type": "code",
   "execution_count": 4,
   "metadata": {},
   "outputs": [
    {
     "name": "stdout",
     "output_type": "stream",
     "text": [
      "[-7.52461844]\n",
      "[[7.6782326]]\n"
     ]
    }
   ],
   "source": [
    "# mpg = a + b * drat + error\n",
    "# y = a + b * x + error\n",
    "\n",
    "y = data[['mpg']]\n",
    "x = data[['drat']]\n",
    "\n",
    "lm = LinearRegression()\n",
    "reg = lm.fit(x, y)\n",
    "print(reg.intercept_)\n",
    "print(reg.coef_)"
   ]
  },
  {
   "cell_type": "code",
   "execution_count": 5,
   "metadata": {},
   "outputs": [
    {
     "data": {
      "text/plain": [
       "[<matplotlib.lines.Line2D at 0x11bdbfe48>]"
      ]
     },
     "execution_count": 5,
     "metadata": {},
     "output_type": "execute_result"
    },
    {
     "data": {
      "image/png": "[encoded data removed]",
      "text/plain": [
       "<Figure size 432x288 with 1 Axes>"
      ]
     },
     "metadata": {
      "needs_background": "light"
     },
     "output_type": "display_data"
    }
   ],
   "source": [
    "plot.scatter(data['drat'], data['mpg'])\n",
    "plot.xlabel('Rare axel ratio')\n",
    "plot.ylabel('Miles per gallon')\n",
    "plot.plot(x, reg.predict(x), color='r')"
   ]
  },
  {
   "cell_type": "code",
   "execution_count": 6,
   "metadata": {},
   "outputs": [
    {
     "name": "stdout",
     "output_type": "stream",
     "text": [
      "R-Squared =  0.46399516798508644\n"
     ]
    }
   ],
   "source": [
    "from sklearn.metrics import r2_score\n",
    "yhat = reg.predict(x)\n",
    "r2 = r2_score(y, yhat)\n",
    "print(\"R-Squared = \", r2)"
   ]
  },
  {
   "cell_type": "code",
   "execution_count": 7,
   "metadata": {},
   "outputs": [
    {
     "data": {
      "text/plain": [
       "array([21.0, 21.0, 22.8, 21.4, 18.7, 18.1, 14.3, 24.4, 22.8, 19.2, 17.8,\n",
       "       16.4, 17.3, 15.2, 10.4, 10.4, 14.7, 32.4, 30.4, 33.9, 21.5, 15.5,\n",
       "       15.2, 13.3, 19.2, 27.3, 26.0, 30.4, 15.8, 19.7, 15.0, 21.4],\n",
       "      dtype=object)"
      ]
     },
     "execution_count": 7,
     "metadata": {},
     "output_type": "execute_result"
    }
   ],
   "source": [
    "array = data.values\n",
    "array\n",
    "X = array[:, 2:] \n",
    "y = array[:, 1]\n",
    "y "
   ]
  },
  {
   "cell_type": "code",
   "execution_count": 8,
   "metadata": {},
   "outputs": [
    {
     "name": "stdout",
     "output_type": "stream",
     "text": [
      "12.30337415599625\n",
      "[-0.11144048  0.01333524 -0.02148212  0.78711097 -3.71530393  0.82104075\n",
      "  0.31776281  2.52022689  0.65541302 -0.19941925]\n"
     ]
    }
   ],
   "source": [
    "# mpg = a + b1*cyl + b2*disp + b3*hp + b4*drat + b5*wt + b6*qsec + b7*vs + b8*am + b9*gear + b10*carb\n",
    "reg = lm.fit(X, y)\n",
    "print(reg.intercept_)\n",
    "print(reg.coef_)"
   ]
  },
  {
   "cell_type": "code",
   "execution_count": 9,
   "metadata": {},
   "outputs": [
    {
     "name": "stdout",
     "output_type": "stream",
     "text": [
      "R-Squared =  0.8690157644777647\n"
     ]
    }
   ],
   "source": [
    "yhat = reg.predict(X)\n",
    "r2 = r2_score(y, yhat)\n",
    "print(\"R-Squared = \", r2)"
   ]
  }
 ],
 "metadata": {
  "kernelspec": {
   "display_name": "Python 3",
   "language": "python",
   "name": "python3"
  },
  "language_info": {
   "codemirror_mode": {
    "name": "ipython",
    "version": 3
   },
   "file_extension": ".py",
   "mimetype": "text/x-python",
   "name": "python",
   "nbconvert_exporter": "python",
   "pygments_lexer": "ipython3",
   "version": "3.7.2"
  }
 },
 "nbformat": 4,
 "nbformat_minor": 2
}
